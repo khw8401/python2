{
 "cells": [
  {
   "cell_type": "code",
   "execution_count": null,
   "id": "e81c986c",
   "metadata": {},
   "outputs": [],
   "source": [
    "for a in range(1,11):\n",
    "    for b in range(1,21):\n",
    "        if b>a:\n",
    "            print(\"*\", end=\"\")\n",
    "        else:\n",
    "            print(\" \", end=\"\")\n",
    "    print(\"\")"
   ]
  },
  {
   "cell_type": "code",
   "execution_count": null,
   "id": "46705640",
   "metadata": {
    "scrolled": true
   },
   "outputs": [],
   "source": [
    "for a in range(10):\n",
    "    for b in range(a):\n",
    "        print(\" \", end=\"\")\n",
    "    for c in range(10):\n",
    "        print(\"*\", end=\"\")\n",
    "    print(\"\")"
   ]
  },
  {
   "cell_type": "code",
   "execution_count": null,
   "id": "c6d54faa",
   "metadata": {
    "scrolled": true
   },
   "outputs": [],
   "source": [
    "for a in range(10):\n",
    "    for b in range(a):\n",
    "        print(\"*\", end=\"\")\n",
    "    print(\"\")"
   ]
  },
  {
   "cell_type": "code",
   "execution_count": null,
   "id": "179f35da",
   "metadata": {},
   "outputs": [],
   "source": [
    "q = 0\n",
    "for a in range(1,101):\n",
    "    for b in range(1,101):\n",
    "        for c in range(1,101):\n",
    "            if a*a+b*b == c*c:\n",
    "                q = q+1\n",
    "print(q)"
   ]
  },
  {
   "cell_type": "code",
   "execution_count": null,
   "id": "5063d6c4",
   "metadata": {},
   "outputs": [],
   "source": [
    "q = 0\n",
    "for a in range(10):\n",
    "    for b in range(10):\n",
    "        for c in range(10):\n",
    "            if a != b and a != c and b != c:\n",
    "                q = q+1\n",
    "print(q)"
   ]
  },
  {
   "cell_type": "code",
   "execution_count": null,
   "id": "db5befd5",
   "metadata": {},
   "outputs": [],
   "source": [
    "q = 0\n",
    "for num in range(1,1000):\n",
    "    d100 = num//100\n",
    "    d10 = (num%100)//10\n",
    "    d1 = num%10\n",
    "    if d100 != d10 and d10 != d1 and d1 != d100:\n",
    "        q = q + 1\n",
    "        \n",
    "print(q)"
   ]
  },
  {
   "cell_type": "code",
   "execution_count": null,
   "id": "d4340630",
   "metadata": {},
   "outputs": [],
   "source": [
    "# 두 자연수 a와 b에 대하여 a ^b 는 a를 b번 곱해서 얻은 수 이다. 예를 들어 4^3은 4*4*4 와 같다.\n",
    "# 3^2016의 마지막 자리의 숫자가 1일 때 답을 구하라.\n",
    "q = 1\n",
    "for a in range(2016):\n",
    "    q= q*3\n",
    "    if i == 2015:\n",
    "        z = a%10\n",
    "\n",
    "print(z)"
   ]
  },
  {
   "cell_type": "code",
   "execution_count": 4,
   "id": "02013464",
   "metadata": {},
   "outputs": [
    {
     "name": "stdout",
     "output_type": "stream",
     "text": [
      "수 입력:682\n",
      "341/512/256/128/64/32/16/8/4/2/count: 11\n"
     ]
    }
   ],
   "source": [
    "# 어떤 프로그램은 임의의 자연수에 대해서 그 결과가 1이 나올 때 까지 아래의 작업을 반복한다.\n",
    "# 자연수가 짝수이면 2로 나눈다. 홀수이면 3을 곱하고 1을 더한 후 2로 나눈다.\n",
    "# 682는 몇 번 실행하여 1에 도달하는가\n",
    "\n",
    "num = int(input(\"수 입력:\"))\n",
    "q = 0\n",
    "while True:\n",
    "    if num % 2 == 0:\n",
    "        num = int(num/2)\n",
    "    else:\n",
    "        num = int((3*num+1)/2)\n",
    "    q = q+1\n",
    "    if num == 1: break\n",
    "    print(num, end=\"/\")\n",
    "    \n",
    "print(\"count:\", q)"
   ]
  },
  {
   "cell_type": "code",
   "execution_count": null,
   "id": "9a28fd83",
   "metadata": {},
   "outputs": [],
   "source": []
  },
  {
   "cell_type": "code",
   "execution_count": null,
   "id": "00a6e374",
   "metadata": {},
   "outputs": [],
   "source": []
  },
  {
   "cell_type": "code",
   "execution_count": null,
   "id": "abfcf60e",
   "metadata": {},
   "outputs": [],
   "source": []
  },
  {
   "cell_type": "code",
   "execution_count": null,
   "id": "8d08a406",
   "metadata": {},
   "outputs": [],
   "source": []
  },
  {
   "cell_type": "code",
   "execution_count": null,
   "id": "3c9b4143",
   "metadata": {},
   "outputs": [],
   "source": []
  },
  {
   "cell_type": "code",
   "execution_count": null,
   "id": "36f0f03c",
   "metadata": {},
   "outputs": [],
   "source": []
  },
  {
   "cell_type": "code",
   "execution_count": null,
   "id": "b9fa9d85",
   "metadata": {},
   "outputs": [],
   "source": []
  },
  {
   "cell_type": "code",
   "execution_count": null,
   "id": "43b6f808",
   "metadata": {},
   "outputs": [],
   "source": []
  },
  {
   "cell_type": "code",
   "execution_count": null,
   "id": "42e47bd9",
   "metadata": {},
   "outputs": [],
   "source": []
  },
  {
   "cell_type": "code",
   "execution_count": null,
   "id": "3a04c378",
   "metadata": {},
   "outputs": [],
   "source": []
  },
  {
   "cell_type": "code",
   "execution_count": null,
   "id": "eebda2ef",
   "metadata": {},
   "outputs": [],
   "source": []
  }
 ],
 "metadata": {
  "kernelspec": {
   "display_name": "Python 3",
   "language": "python",
   "name": "python3"
  },
  "language_info": {
   "codemirror_mode": {
    "name": "ipython",
    "version": 3
   },
   "file_extension": ".py",
   "mimetype": "text/x-python",
   "name": "python",
   "nbconvert_exporter": "python",
   "pygments_lexer": "ipython3",
   "version": "3.8.8"
  }
 },
 "nbformat": 4,
 "nbformat_minor": 5
}
