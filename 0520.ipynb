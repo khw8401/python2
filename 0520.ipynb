{
 "cells": [
  {
   "cell_type": "code",
   "execution_count": 1,
   "id": "e933d7e4",
   "metadata": {},
   "outputs": [
    {
     "data": {
      "text/plain": [
       "4"
      ]
     },
     "execution_count": 1,
     "metadata": {},
     "output_type": "execute_result"
    }
   ],
   "source": [
    "1+3"
   ]
  },
  {
   "cell_type": "code",
   "execution_count": 2,
   "id": "92bc6c7d",
   "metadata": {},
   "outputs": [
    {
     "name": "stdout",
     "output_type": "stream",
     "text": [
      "4\n"
     ]
    }
   ],
   "source": [
    "print(1+3)"
   ]
  },
  {
   "cell_type": "code",
   "execution_count": 3,
   "id": "372141a6",
   "metadata": {},
   "outputs": [
    {
     "name": "stdout",
     "output_type": "stream",
     "text": [
      "3\n"
     ]
    }
   ],
   "source": [
    "a=1\n",
    "b=2\n",
    "c=a+b\n",
    "print(c)"
   ]
  },
  {
   "cell_type": "code",
   "execution_count": 4,
   "id": "fd4e9326",
   "metadata": {},
   "outputs": [
    {
     "data": {
      "text/plain": [
       "9"
      ]
     },
     "execution_count": 4,
     "metadata": {},
     "output_type": "execute_result"
    }
   ],
   "source": [
    "3**2"
   ]
  },
  {
   "cell_type": "code",
   "execution_count": 5,
   "id": "13bd640b",
   "metadata": {},
   "outputs": [
    {
     "data": {
      "text/plain": [
       "1"
      ]
     },
     "execution_count": 5,
     "metadata": {},
     "output_type": "execute_result"
    }
   ],
   "source": [
    "3^2"
   ]
  },
  {
   "cell_type": "code",
   "execution_count": 7,
   "id": "1cd21da4",
   "metadata": {},
   "outputs": [],
   "source": [
    "# 재고 5\n",
    "# 3개마다 1박스 구성\n",
    "# 출하 가능 박스 개수\n",
    "# 남은 재고"
   ]
  },
  {
   "cell_type": "code",
   "execution_count": 16,
   "id": "e00b99f4",
   "metadata": {},
   "outputs": [
    {
     "name": "stdout",
     "output_type": "stream",
     "text": [
      "출하 가능 박스:\t1개\n",
      "출하 후 재고:\t2개\n"
     ]
    }
   ],
   "source": [
    "stock_current = 5\n",
    "package_size = 3\n",
    "box_available = stock_current//package_size\n",
    "stock_current = stock_current%package_size\n",
    "\n",
    "print(\"출하 가능 박스:\\t\"+ str(box_available) +\"개\")\n",
    "print(\"출하 후 재고:\\t\"+ str(stock_current) +\"개\")"
   ]
  },
  {
   "cell_type": "code",
   "execution_count": 19,
   "id": "3bf6246f",
   "metadata": {},
   "outputs": [
    {
     "name": "stdout",
     "output_type": "stream",
     "text": [
      "사과\n",
      "자두\n",
      "복숭아\n"
     ]
    }
   ],
   "source": [
    "print('사과')\n",
    "print(\"자두\")\n",
    "print(\"\"\"복숭아\"\"\")"
   ]
  },
  {
   "cell_type": "code",
   "execution_count": 28,
   "id": "c0df30f8",
   "metadata": {},
   "outputs": [
    {
     "name": "stdout",
     "output_type": "stream",
     "text": [
      "He said that \"I am so happy\".\n"
     ]
    }
   ],
   "source": [
    "# He said that \"I am so happy\"\n",
    "print('He said that \"I am so happy\".')"
   ]
  },
  {
   "cell_type": "code",
   "execution_count": 26,
   "id": "e1f3156b",
   "metadata": {},
   "outputs": [
    {
     "name": "stdout",
     "output_type": "stream",
     "text": [
      "I am can be written as I'm\n"
     ]
    }
   ],
   "source": [
    "# I am can be written as I'm\n",
    "print(\"I am can be written as I'm\")"
   ]
  },
  {
   "cell_type": "code",
   "execution_count": 31,
   "id": "847a59b8",
   "metadata": {},
   "outputs": [
    {
     "name": "stdout",
     "output_type": "stream",
     "text": [
      "best\n"
     ]
    }
   ],
   "source": [
    "print(\"\"\"best\"\"\")"
   ]
  },
  {
   "cell_type": "code",
   "execution_count": 33,
   "id": "75096298",
   "metadata": {},
   "outputs": [
    {
     "name": "stdout",
     "output_type": "stream",
     "text": [
      "best\n",
      "music\n",
      "award\n"
     ]
    }
   ],
   "source": [
    "print(\"\"\"best\n",
    "music\n",
    "award\"\"\")"
   ]
  },
  {
   "cell_type": "code",
   "execution_count": 34,
   "id": "57238fe9",
   "metadata": {},
   "outputs": [
    {
     "name": "stdout",
     "output_type": "stream",
     "text": [
      "best\n",
      "music\n",
      "award\n"
     ]
    }
   ],
   "source": [
    "print(\"\"\"best\\nmusic\\naward\"\"\")"
   ]
  },
  {
   "cell_type": "code",
   "execution_count": 38,
   "id": "628517f5",
   "metadata": {},
   "outputs": [
    {
     "name": "stdout",
     "output_type": "stream",
     "text": [
      "a\\b\\c\\\n"
     ]
    }
   ],
   "source": [
    "print(\"a\\\\b\\\\c\\\\\")"
   ]
  },
  {
   "cell_type": "code",
   "execution_count": 39,
   "id": "71f02736",
   "metadata": {},
   "outputs": [
    {
     "name": "stdout",
     "output_type": "stream",
     "text": [
      "girl's generation\n"
     ]
    }
   ],
   "source": [
    "print(\"girl's generation\")"
   ]
  },
  {
   "cell_type": "code",
   "execution_count": 40,
   "id": "301cc251",
   "metadata": {},
   "outputs": [
    {
     "name": "stdout",
     "output_type": "stream",
     "text": [
      "girl's generation\n"
     ]
    }
   ],
   "source": [
    "print('girl\\'s generation')"
   ]
  },
  {
   "cell_type": "code",
   "execution_count": 43,
   "id": "59d5b973",
   "metadata": {},
   "outputs": [
    {
     "name": "stdout",
     "output_type": "stream",
     "text": [
      "안녕하세요.김형우님 만나서 반갑습니다.\n"
     ]
    }
   ],
   "source": [
    "greeting = \"안녕하세요.\"\n",
    "name = \"김형우\"\n",
    "greeting2 = \"님 만나서 반갑습니다.\"\n",
    "sentence = greeting + name + greeting2\n",
    "print(sentence)\n"
   ]
  },
  {
   "cell_type": "code",
   "execution_count": 46,
   "id": "88cd65a6",
   "metadata": {},
   "outputs": [
    {
     "name": "stdout",
     "output_type": "stream",
     "text": [
      "안녕하세요.김땡떙님 만나서 반갑습니다.\n"
     ]
    }
   ],
   "source": [
    "name = \"김땡떙\"\n",
    "sentence = greeting + name + greeting2\n",
    "print(sentence)"
   ]
  },
  {
   "cell_type": "code",
   "execution_count": 47,
   "id": "478f6e0e",
   "metadata": {},
   "outputs": [
    {
     "data": {
      "text/plain": [
       "'땡떙땡땡떙땡'"
      ]
     },
     "execution_count": 47,
     "metadata": {},
     "output_type": "execute_result"
    }
   ],
   "source": [
    "a = \"땡떙땡\"\n",
    "a * 2"
   ]
  },
  {
   "cell_type": "code",
   "execution_count": 50,
   "id": "26eb4899",
   "metadata": {},
   "outputs": [
    {
     "name": "stdout",
     "output_type": "stream",
     "text": [
      "안녕하세요.김땡떙님 만나서정말정말정말반갑습니다.\n"
     ]
    }
   ],
   "source": [
    "friendly = 3\n",
    "expression1 = \"정말\"\n",
    "greeting2 = \"님 만나서\"\n",
    "greeting3 = \"반갑습니다.\"\n",
    "sentence = greeting + name + greeting2\\\n",
    "+ expression1 * friendly + greeting3\n",
    "print(sentence)\n"
   ]
  },
  {
   "cell_type": "code",
   "execution_count": 51,
   "id": "f3fb1526",
   "metadata": {},
   "outputs": [
    {
     "data": {
      "text/plain": [
       "17"
      ]
     },
     "execution_count": 51,
     "metadata": {},
     "output_type": "execute_result"
    }
   ],
   "source": [
    "a = \"Life is too short\"\n",
    "len(a)"
   ]
  },
  {
   "cell_type": "code",
   "execution_count": 52,
   "id": "a1fdc3d8",
   "metadata": {},
   "outputs": [
    {
     "data": {
      "text/plain": [
       "15"
      ]
     },
     "execution_count": 52,
     "metadata": {},
     "output_type": "execute_result"
    }
   ],
   "source": [
    "z = \"You need python\"\n",
    "len(z)"
   ]
  },
  {
   "cell_type": "code",
   "execution_count": 62,
   "id": "28d16eeb",
   "metadata": {},
   "outputs": [],
   "source": [
    "first_over_count = 0\n",
    "second_over_count = 0"
   ]
  },
  {
   "cell_type": "code",
   "execution_count": 63,
   "id": "34242441",
   "metadata": {
    "scrolled": true
   },
   "outputs": [
    {
     "name": "stdout",
     "output_type": "stream",
     "text": [
      "성 길이 초과 탐색\n",
      "first_over_count:0\n",
      "second_over_count:1\n"
     ]
    }
   ],
   "source": [
    "first_name = \"형우\"\n",
    "second_name = \"선우\"\n",
    "if len(first_name)>3:\n",
    "    print(\"이름 길이 초과 탐색\")\n",
    "    first_over_count+=1\n",
    "if len(second_name)>1:\n",
    "    print(\"성 길이 초과 탐색\")\n",
    "    second_over_count+=1\n",
    "print(\"first_over_count:\"+str(first_over_count))\n",
    "print(\"second_over_count:\"+str(second_over_count))"
   ]
  },
  {
   "cell_type": "code",
   "execution_count": 58,
   "id": "d7991ae1",
   "metadata": {},
   "outputs": [
    {
     "name": "stdout",
     "output_type": "stream",
     "text": [
      "성 길이 초과 탐색\n"
     ]
    }
   ],
   "source": [
    "first_name = \"영재\"\n",
    "second_name = \"독고\"\n",
    "if len(first_name)>3:\n",
    "    print(\"이름 길이 초과 탐색\")\n",
    "if len(second_name)>1:\n",
    "    print(\"성 길이 초과 탐색\")"
   ]
  },
  {
   "cell_type": "code",
   "execution_count": null,
   "id": "08ac18e9",
   "metadata": {},
   "outputs": [],
   "source": []
  },
  {
   "cell_type": "code",
   "execution_count": null,
   "id": "55369079",
   "metadata": {},
   "outputs": [],
   "source": []
  },
  {
   "cell_type": "code",
   "execution_count": null,
   "id": "9a77e9a5",
   "metadata": {},
   "outputs": [],
   "source": []
  },
  {
   "cell_type": "code",
   "execution_count": null,
   "id": "8dbe23f4",
   "metadata": {},
   "outputs": [],
   "source": []
  },
  {
   "cell_type": "code",
   "execution_count": null,
   "id": "d95ae6d7",
   "metadata": {},
   "outputs": [],
   "source": []
  }
 ],
 "metadata": {
  "kernelspec": {
   "display_name": "Python 3",
   "language": "python",
   "name": "python3"
  },
  "language_info": {
   "codemirror_mode": {
    "name": "ipython",
    "version": 3
   },
   "file_extension": ".py",
   "mimetype": "text/x-python",
   "name": "python",
   "nbconvert_exporter": "python",
   "pygments_lexer": "ipython3",
   "version": "3.8.10"
  }
 },
 "nbformat": 4,
 "nbformat_minor": 5
}
