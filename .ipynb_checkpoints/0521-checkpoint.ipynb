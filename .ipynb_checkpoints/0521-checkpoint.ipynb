{
 "cells": [
  {
   "cell_type": "code",
   "execution_count": 10,
   "id": "95cf16a8",
   "metadata": {},
   "outputs": [
    {
     "data": {
      "text/plain": [
       "'Life'"
      ]
     },
     "execution_count": 10,
     "metadata": {},
     "output_type": "execute_result"
    }
   ],
   "source": [
    "a = \"Life is ~~~\"\n",
    "a[0:4]"
   ]
  },
  {
   "cell_type": "code",
   "execution_count": 12,
   "id": "e4246a97",
   "metadata": {},
   "outputs": [
    {
     "data": {
      "text/plain": [
       "'Life '"
      ]
     },
     "execution_count": 12,
     "metadata": {},
     "output_type": "execute_result"
    }
   ],
   "source": [
    "a[0:5]"
   ]
  },
  {
   "cell_type": "code",
   "execution_count": 14,
   "id": "515c4107",
   "metadata": {},
   "outputs": [],
   "source": [
    "a1 =a[0:4]\n",
    "a2 =a[0:5]"
   ]
  },
  {
   "cell_type": "code",
   "execution_count": 15,
   "id": "ae2bf361",
   "metadata": {},
   "outputs": [
    {
     "name": "stdout",
     "output_type": "stream",
     "text": [
      "다르다\n"
     ]
    }
   ],
   "source": [
    "if a1 == a2:\n",
    "    print(\"같다\")\n",
    "else:\n",
    "    print(\"다르다\")"
   ]
  },
  {
   "cell_type": "code",
   "execution_count": 16,
   "id": "90b83811",
   "metadata": {},
   "outputs": [
    {
     "name": "stdout",
     "output_type": "stream",
     "text": [
      "Life 4\n",
      "Life  5\n"
     ]
    }
   ],
   "source": [
    "print(a1,len(a1))\n",
    "print(a2,len(a2))"
   ]
  },
  {
   "cell_type": "code",
   "execution_count": 19,
   "id": "b7bc5aef",
   "metadata": {},
   "outputs": [],
   "source": [
    "words = \"딸기,바나나,수박\""
   ]
  },
  {
   "cell_type": "code",
   "execution_count": 43,
   "id": "023e5a55",
   "metadata": {},
   "outputs": [
    {
     "name": "stdout",
     "output_type": "stream",
     "text": [
      "\n"
     ]
    }
   ],
   "source": [
    "wordToFind=\"바나나\"\n",
    "indexofbanana=words.find(\"wordToFind\")\n",
    "banannaFromWords1 = words[indexofbanana:indexofbanana+3]\n",
    "print(banannaFromWords1)"
   ]
  },
  {
   "cell_type": "code",
   "execution_count": 27,
   "id": "62c57716",
   "metadata": {
    "scrolled": false
   },
   "outputs": [
    {
     "name": "stdout",
     "output_type": "stream",
     "text": [
      "수박\n"
     ]
    }
   ],
   "source": [
    "wmfromword2=words[7:9]\n",
    "print(wmfromword2)"
   ]
  },
  {
   "cell_type": "code",
   "execution_count": 66,
   "id": "931d5367",
   "metadata": {
    "scrolled": true
   },
   "outputs": [],
   "source": [
    "a = \"pithon\""
   ]
  },
  {
   "cell_type": "code",
   "execution_count": 67,
   "id": "2fba4de1",
   "metadata": {},
   "outputs": [
    {
     "data": {
      "text/plain": [
       "'i'"
      ]
     },
     "execution_count": 67,
     "metadata": {},
     "output_type": "execute_result"
    }
   ],
   "source": [
    "a[1]"
   ]
  },
  {
   "cell_type": "code",
   "execution_count": 68,
   "id": "cb21a151",
   "metadata": {},
   "outputs": [
    {
     "ename": "TypeError",
     "evalue": "'str' object does not support item assignment",
     "output_type": "error",
     "traceback": [
      "\u001b[1;31m---------------------------------------------------------------------------\u001b[0m",
      "\u001b[1;31mTypeError\u001b[0m                                 Traceback (most recent call last)",
      "\u001b[1;32m<ipython-input-68-6e016355dca5>\u001b[0m in \u001b[0;36m<module>\u001b[1;34m\u001b[0m\n\u001b[1;32m----> 1\u001b[1;33m \u001b[0ma\u001b[0m\u001b[1;33m[\u001b[0m\u001b[1;36m1\u001b[0m\u001b[1;33m]\u001b[0m\u001b[1;33m=\u001b[0m\u001b[1;34m'y'\u001b[0m\u001b[1;33m\u001b[0m\u001b[1;33m\u001b[0m\u001b[0m\n\u001b[0m",
      "\u001b[1;31mTypeError\u001b[0m: 'str' object does not support item assignment"
     ]
    }
   ],
   "source": [
    "a[1]='y'"
   ]
  },
  {
   "cell_type": "code",
   "execution_count": 69,
   "id": "0b483ba7",
   "metadata": {},
   "outputs": [],
   "source": [
    "a2=a[:1]+\"y\"+a[2:]"
   ]
  },
  {
   "cell_type": "code",
   "execution_count": 71,
   "id": "9cc2b8de",
   "metadata": {},
   "outputs": [
    {
     "name": "stdout",
     "output_type": "stream",
     "text": [
      "python\n"
     ]
    }
   ],
   "source": [
    "a=a2\n",
    "print(a)"
   ]
  },
  {
   "cell_type": "code",
   "execution_count": 74,
   "id": "4634f313",
   "metadata": {},
   "outputs": [
    {
     "name": "stdout",
     "output_type": "stream",
     "text": [
      "name1\tmajor\thowmanyphone1\n",
      "김형우\tm\t2\n",
      "김한남\tt\t3\n"
     ]
    }
   ],
   "source": [
    "\n",
    "name1=\"김형우\";major1=\"m\";howmanyphone1=2\n",
    "name2=\"김한남\";major2=\"t\";howmanyphone2=3\n",
    "print(\"name1\"+\"\\t\"+\"major\"+\"\\t\"+\"howmanyphone1\")\n",
    "print(name1+\"\\t\"+major1+\"\\t\"+str(howmanyphone1))\n",
    "print(name2+\"\\t\"+major2+\"\\t\"+str(howmanyphone2))\n"
   ]
  },
  {
   "cell_type": "code",
   "execution_count": 78,
   "id": "f1c69232",
   "metadata": {},
   "outputs": [
    {
     "name": "stdout",
     "output_type": "stream",
     "text": [
      "%s120\n",
      "120\n",
      "       120\n"
     ]
    }
   ],
   "source": [
    "print(\"%s\"\"120\")\n",
    "print(\"%s\" % \"120\")\n",
    "print(\"%10s\" % \"120\")"
   ]
  },
  {
   "cell_type": "code",
   "execution_count": 80,
   "id": "8f82605a",
   "metadata": {},
   "outputs": [
    {
     "name": "stdout",
     "output_type": "stream",
     "text": [
      "120       \n",
      "12000     \n"
     ]
    }
   ],
   "source": [
    "print(\"%-10s\" % \"120\")\n",
    "print(\"%-10s\" % \"12000\")"
   ]
  },
  {
   "cell_type": "code",
   "execution_count": 82,
   "id": "9b23d446",
   "metadata": {},
   "outputs": [
    {
     "name": "stdout",
     "output_type": "stream",
     "text": [
      "120.00\n",
      "12000.00\n"
     ]
    }
   ],
   "source": [
    "print(\"%0.2f\" % 120)\n",
    "print(\"%0.2f\" % 12000)"
   ]
  },
  {
   "cell_type": "code",
   "execution_count": 85,
   "id": "39994217",
   "metadata": {},
   "outputs": [
    {
     "data": {
      "text/plain": [
       "'~~~~가~~~2~~~'"
      ]
     },
     "execution_count": 85,
     "metadata": {},
     "output_type": "execute_result"
    }
   ],
   "source": [
    "\"~~~~{0}~~~{1}~~~\".format(\"가\",2)"
   ]
  },
  {
   "cell_type": "code",
   "execution_count": 86,
   "id": "60cd5dac",
   "metadata": {},
   "outputs": [
    {
     "data": {
      "text/plain": [
       "'120'"
      ]
     },
     "execution_count": 86,
     "metadata": {},
     "output_type": "execute_result"
    }
   ],
   "source": [
    "\"{0}\".format(\"120\")"
   ]
  },
  {
   "cell_type": "code",
   "execution_count": 88,
   "id": "9d13d36d",
   "metadata": {},
   "outputs": [
    {
     "data": {
      "text/plain": [
       "'       120'"
      ]
     },
     "execution_count": 88,
     "metadata": {},
     "output_type": "execute_result"
    }
   ],
   "source": [
    "\"{0:>10}\".format(\"120\")"
   ]
  },
  {
   "cell_type": "code",
   "execution_count": 89,
   "id": "1d23683c",
   "metadata": {},
   "outputs": [
    {
     "data": {
      "text/plain": [
       "'나의 이름은 가나입니다.나이는 120살 까지 살고 싶어요'"
      ]
     },
     "execution_count": 89,
     "metadata": {},
     "output_type": "execute_result"
    }
   ],
   "source": [
    "name =\"가나\"\n",
    "age=120\n",
    "\"나의 이름은 {0}입니다.나이는 {1}살 까지 살고 싶어요\".format(name,age)"
   ]
  },
  {
   "cell_type": "code",
   "execution_count": 92,
   "id": "036179fa",
   "metadata": {},
   "outputs": [
    {
     "data": {
      "text/plain": [
       "'나의 이름은 가나입니다.나이는 120살 까지 살고 싶어요'"
      ]
     },
     "execution_count": 92,
     "metadata": {},
     "output_type": "execute_result"
    }
   ],
   "source": [
    "f\"나의 이름은 {name}입니다.나이는 {age}살 까지 살고 싶어요\""
   ]
  },
  {
   "cell_type": "code",
   "execution_count": 93,
   "id": "0d6fb572",
   "metadata": {},
   "outputs": [
    {
     "data": {
      "text/plain": [
       "3"
      ]
     },
     "execution_count": 93,
     "metadata": {},
     "output_type": "execute_result"
    }
   ],
   "source": [
    "len(\"바나나\")"
   ]
  },
  {
   "cell_type": "code",
   "execution_count": 121,
   "id": "06dda25f",
   "metadata": {},
   "outputs": [
    {
     "data": {
      "text/plain": [
       "3"
      ]
     },
     "execution_count": 121,
     "metadata": {},
     "output_type": "execute_result"
    }
   ],
   "source": [
    "\"내가 가장 좋아하는 바나나는 크기가 큰 바나나 입니다.왜냐면 작은 바나나는 같은 무게를 사도 껍질이 버려져요\".count(\"바나나\")"
   ]
  },
  {
   "cell_type": "code",
   "execution_count": 124,
   "id": "86b8ca53",
   "metadata": {},
   "outputs": [
    {
     "data": {
      "text/plain": [
       "'a,b,c,d'"
      ]
     },
     "execution_count": 124,
     "metadata": {},
     "output_type": "execute_result"
    }
   ],
   "source": [
    "\",\".join(\"abcd\")"
   ]
  },
  {
   "cell_type": "code",
   "execution_count": 125,
   "id": "98c9949d",
   "metadata": {},
   "outputs": [
    {
     "data": {
      "text/plain": [
       "'abc,def,ghi'"
      ]
     },
     "execution_count": 125,
     "metadata": {},
     "output_type": "execute_result"
    }
   ],
   "source": [
    "\",\".join([\"abc\",\"def\",\"ghi\"])"
   ]
  },
  {
   "cell_type": "code",
   "execution_count": 127,
   "id": "fe19a97e",
   "metadata": {},
   "outputs": [
    {
     "data": {
      "text/plain": [
       "'010-3805-1234'"
      ]
     },
     "execution_count": 127,
     "metadata": {},
     "output_type": "execute_result"
    }
   ],
   "source": [
    "#숫자만으로 저장된 전화 번호를 DB에서 얻었다. 01038051234 이 번호를 -로 연결하자\n",
    "\"-\".join([\"010\",\"3805\",\"1234\"])"
   ]
  },
  {
   "cell_type": "code",
   "execution_count": 129,
   "id": "d2ddb587",
   "metadata": {},
   "outputs": [
    {
     "name": "stdout",
     "output_type": "stream",
     "text": [
      "I love peach. because peach is so sweet\n"
     ]
    }
   ],
   "source": [
    "a = \"I love apple. because apple is so sweet\"\n",
    "b = a.replace(\"apple\",\"peach\")\n",
    "print(b)"
   ]
  },
  {
   "cell_type": "code",
   "execution_count": 131,
   "id": "65aa8d84",
   "metadata": {},
   "outputs": [
    {
     "name": "stdout",
     "output_type": "stream",
     "text": [
      "01038051234\n"
     ]
    }
   ],
   "source": [
    "# 010-3805-1234 -> 01038051234\n",
    "a = \"010-3805-1234\"\n",
    "b = a.replace(\"-\",\"\")\n",
    "print(b)"
   ]
  },
  {
   "cell_type": "code",
   "execution_count": 133,
   "id": "a4267f08",
   "metadata": {},
   "outputs": [
    {
     "data": {
      "text/plain": [
       "['life', 'is', 'good']"
      ]
     },
     "execution_count": 133,
     "metadata": {},
     "output_type": "execute_result"
    }
   ],
   "source": [
    "a='life is good'\n",
    "b=a.split()\n",
    "b"
   ]
  },
  {
   "cell_type": "code",
   "execution_count": 138,
   "id": "c8e5f49b",
   "metadata": {},
   "outputs": [
    {
     "name": "stdout",
     "output_type": "stream",
     "text": [
      "식별번호: 010 국번 3805 개인번호 1234\n"
     ]
    }
   ],
   "source": [
    "# 010-3805-1234\n",
    "a = '010-3805-1234'\n",
    "b = a.split('-')\n",
    "b\n",
    "print(\"식별번호:\",b[0],\"국번\",b[1],\"개인번호\",b[2])"
   ]
  },
  {
   "cell_type": "code",
   "execution_count": 141,
   "id": "a0775570",
   "metadata": {},
   "outputs": [
    {
     "name": "stdout",
     "output_type": "stream",
     "text": [
      "[]\n",
      "[1, 2, [3, 4]]\n",
      "3\n"
     ]
    }
   ],
   "source": [
    "a = []\n",
    "print(a)\n",
    "e = [1,2,[3,4]]\n",
    "print(e)\n",
    "print(len(e))"
   ]
  },
  {
   "cell_type": "code",
   "execution_count": 145,
   "id": "1b31894d",
   "metadata": {},
   "outputs": [
    {
     "name": "stdout",
     "output_type": "stream",
     "text": [
      "c\n",
      "[1, 2, 4]\n"
     ]
    }
   ],
   "source": [
    "str1 = \"abc\"\n",
    "print(str1[2])\n",
    "a=[1,2,3]\n",
    "a[2]=4\n",
    "print(a)"
   ]
  },
  {
   "cell_type": "code",
   "execution_count": 148,
   "id": "1bc113f5",
   "metadata": {},
   "outputs": [
    {
     "name": "stdout",
     "output_type": "stream",
     "text": [
      "[1, 2, 3, 4]\n"
     ]
    }
   ],
   "source": [
    "a = [1,4,3,2]\n",
    "a2 = a[:]\n",
    "a2.sort()\n",
    "print(a2)"
   ]
  },
  {
   "cell_type": "code",
   "execution_count": 150,
   "id": "cf145e89",
   "metadata": {},
   "outputs": [
    {
     "name": "stdout",
     "output_type": "stream",
     "text": [
      "[1, 2, 3, 4]\n",
      "[1, 4, 3, 2]\n"
     ]
    }
   ],
   "source": [
    "a = [1,4,3,2]\n",
    "a2 = sorted(a)\n",
    "print(a2)\n",
    "print(a)"
   ]
  },
  {
   "cell_type": "code",
   "execution_count": 152,
   "id": "bca7ed70",
   "metadata": {},
   "outputs": [
    {
     "name": "stdout",
     "output_type": "stream",
     "text": [
      "[4, 3, 2, 1]\n"
     ]
    }
   ],
   "source": [
    "a = [1,4,3,2]\n",
    "a.sort(reverse = True)\n",
    "print(a)"
   ]
  },
  {
   "cell_type": "code",
   "execution_count": 153,
   "id": "4edfb47e",
   "metadata": {},
   "outputs": [
    {
     "name": "stdout",
     "output_type": "stream",
     "text": [
      "[4, 3, 2, 1]\n",
      "[1, 4, 3, 2]\n"
     ]
    }
   ],
   "source": [
    "a = [1,4,3,2]\n",
    "a2 = sorted(a, reverse=True)\n",
    "print(a2)\n",
    "print(a)"
   ]
  },
  {
   "cell_type": "code",
   "execution_count": 154,
   "id": "c24f9a32",
   "metadata": {},
   "outputs": [
    {
     "data": {
      "text/plain": [
       "3"
      ]
     },
     "execution_count": 154,
     "metadata": {},
     "output_type": "execute_result"
    }
   ],
   "source": [
    "a = [1,2,3]\n",
    "a[2]"
   ]
  },
  {
   "cell_type": "code",
   "execution_count": 155,
   "id": "1b7bbdbb",
   "metadata": {},
   "outputs": [
    {
     "data": {
      "text/plain": [
       "[1, 2, 3]"
      ]
     },
     "execution_count": 155,
     "metadata": {},
     "output_type": "execute_result"
    }
   ],
   "source": [
    "a"
   ]
  },
  {
   "cell_type": "code",
   "execution_count": 156,
   "id": "8c2182d2",
   "metadata": {},
   "outputs": [
    {
     "data": {
      "text/plain": [
       "3"
      ]
     },
     "execution_count": 156,
     "metadata": {},
     "output_type": "execute_result"
    }
   ],
   "source": [
    "a.pop()"
   ]
  },
  {
   "cell_type": "code",
   "execution_count": 158,
   "id": "936461f7",
   "metadata": {},
   "outputs": [
    {
     "data": {
      "text/plain": [
       "[1, 2]"
      ]
     },
     "execution_count": 158,
     "metadata": {},
     "output_type": "execute_result"
    }
   ],
   "source": [
    "a"
   ]
  },
  {
   "cell_type": "code",
   "execution_count": 159,
   "id": "c708526d",
   "metadata": {},
   "outputs": [
    {
     "name": "stdout",
     "output_type": "stream",
     "text": [
      "[1, 2, 3, 4]\n",
      "[1, 2, 3, 4]\n"
     ]
    }
   ],
   "source": [
    "a1 = [1,2]; a2=[3,4]\n",
    "new1 = a1+a2 ; print(new1)\n",
    "a1.extend(a2);print(a1)"
   ]
  },
  {
   "cell_type": "code",
   "execution_count": 164,
   "id": "6d4317d3",
   "metadata": {},
   "outputs": [],
   "source": [
    "my_dic1 = {}\n"
   ]
  },
  {
   "cell_type": "code",
   "execution_count": 165,
   "id": "5ae217f6",
   "metadata": {},
   "outputs": [],
   "source": [
    "my_dic1[\"banana\"]=\"노랗고 달콤한 과일\""
   ]
  },
  {
   "cell_type": "code",
   "execution_count": 166,
   "id": "af38b07f",
   "metadata": {},
   "outputs": [],
   "source": [
    "my_dic1[\"strawberry\"]=\"새콤 달콤 빨간 과일\""
   ]
  },
  {
   "cell_type": "code",
   "execution_count": 167,
   "id": "fca51619",
   "metadata": {},
   "outputs": [
    {
     "data": {
      "text/plain": [
       "{'banana': '노랗고 달콤한 과일', 'strawberry': '새콤 달콤 빨간 과일'}"
      ]
     },
     "execution_count": 167,
     "metadata": {},
     "output_type": "execute_result"
    }
   ],
   "source": [
    "my_dic1"
   ]
  },
  {
   "cell_type": "code",
   "execution_count": 171,
   "id": "c672126b",
   "metadata": {},
   "outputs": [],
   "source": [
    "# del my_dic1[0]\n",
    "del my_dic1[\"banana\"]"
   ]
  },
  {
   "cell_type": "code",
   "execution_count": 172,
   "id": "2fe97168",
   "metadata": {},
   "outputs": [
    {
     "data": {
      "text/plain": [
       "{'strawberry': '새콤 달콤 빨간 과일'}"
      ]
     },
     "execution_count": 172,
     "metadata": {},
     "output_type": "execute_result"
    }
   ],
   "source": [
    "my_dic1"
   ]
  },
  {
   "cell_type": "code",
   "execution_count": 176,
   "id": "704c4ccd",
   "metadata": {},
   "outputs": [
    {
     "data": {
      "text/plain": [
       "{'strawberry': '새콤 달콤 빨간 과일', 'banana': '노랗고 달콤한 과일'}"
      ]
     },
     "execution_count": 176,
     "metadata": {},
     "output_type": "execute_result"
    }
   ],
   "source": [
    "my_dic1[\"banana\"]=\"노랗고 달콤한 과일\"\n",
    "my_dic1"
   ]
  },
  {
   "cell_type": "code",
   "execution_count": 180,
   "id": "b0724469",
   "metadata": {},
   "outputs": [
    {
     "data": {
      "text/plain": [
       "dict_keys(['strawberry', 'banana'])"
      ]
     },
     "execution_count": 180,
     "metadata": {},
     "output_type": "execute_result"
    }
   ],
   "source": [
    "my_dic1.keys()"
   ]
  },
  {
   "cell_type": "code",
   "execution_count": 181,
   "id": "177451e1",
   "metadata": {},
   "outputs": [],
   "source": [
    "a = ['strawberry','banana','strawberry']"
   ]
  },
  {
   "cell_type": "code",
   "execution_count": 182,
   "id": "7bfe69d1",
   "metadata": {},
   "outputs": [],
   "source": [
    "my_dic1[\"banana\"]=\"노랗고 달콤한 과일2\""
   ]
  },
  {
   "cell_type": "code",
   "execution_count": 183,
   "id": "b6c1e94a",
   "metadata": {},
   "outputs": [
    {
     "data": {
      "text/plain": [
       "{'strawberry': '새콤 달콤 빨간 과일', 'banana': '노랗고 달콤한 과일2'}"
      ]
     },
     "execution_count": 183,
     "metadata": {},
     "output_type": "execute_result"
    }
   ],
   "source": [
    "my_dic1"
   ]
  },
  {
   "cell_type": "code",
   "execution_count": 186,
   "id": "6138da85",
   "metadata": {},
   "outputs": [
    {
     "name": "stdout",
     "output_type": "stream",
     "text": [
      "참\n"
     ]
    }
   ],
   "source": [
    "if 3>1:\n",
    "    print(\"참\")\n",
    "if 4>10:\n",
    "    print(\"참\")"
   ]
  },
  {
   "cell_type": "code",
   "execution_count": 187,
   "id": "6d251cdd",
   "metadata": {},
   "outputs": [
    {
     "name": "stdout",
     "output_type": "stream",
     "text": [
      "거짓\n"
     ]
    }
   ],
   "source": [
    "if 3<1:\n",
    "    print(\"거짓\")\n",
    "else:\n",
    "    print(\"거짓\")"
   ]
  },
  {
   "cell_type": "code",
   "execution_count": 188,
   "id": "729fc9a2",
   "metadata": {},
   "outputs": [
    {
     "name": "stdout",
     "output_type": "stream",
     "text": [
      "두 수가 같다\n"
     ]
    }
   ],
   "source": [
    "a = 2\n",
    "b = 2\n",
    "if a == b:\n",
    "    print(\"두 수가 같다\")"
   ]
  },
  {
   "cell_type": "code",
   "execution_count": 190,
   "id": "508896ab",
   "metadata": {},
   "outputs": [
    {
     "data": {
      "text/plain": [
       "False"
      ]
     },
     "execution_count": 190,
     "metadata": {},
     "output_type": "execute_result"
    }
   ],
   "source": [
    "1 in [1,2,3]\n",
    "1 not in [1,2,3]"
   ]
  },
  {
   "cell_type": "code",
   "execution_count": null,
   "id": "987d826d",
   "metadata": {},
   "outputs": [],
   "source": []
  },
  {
   "cell_type": "code",
   "execution_count": null,
   "id": "525d5ba6",
   "metadata": {},
   "outputs": [],
   "source": []
  }
 ],
 "metadata": {
  "kernelspec": {
   "display_name": "Python 3",
   "language": "python",
   "name": "python3"
  },
  "language_info": {
   "codemirror_mode": {
    "name": "ipython",
    "version": 3
   },
   "file_extension": ".py",
   "mimetype": "text/x-python",
   "name": "python",
   "nbconvert_exporter": "python",
   "pygments_lexer": "ipython3",
   "version": "3.8.8"
  }
 },
 "nbformat": 4,
 "nbformat_minor": 5
}
